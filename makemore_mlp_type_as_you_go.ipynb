{
 "cells": [
  {
   "cell_type": "code",
   "execution_count": 1,
   "id": "63f1f004",
   "metadata": {},
   "outputs": [],
   "source": [
    "import torch\n",
    "import torch.nn.functional as F\n",
    "import matplotlib.pyplot as plt\n",
    "%matplotlib inline"
   ]
  },
  {
   "cell_type": "code",
   "execution_count": 3,
   "id": "615256f9",
   "metadata": {},
   "outputs": [
    {
     "data": {
      "text/plain": [
       "['emma', 'olivia', 'ava', 'isabella', 'sophia', 'charlotte', 'mia', 'amelia']"
      ]
     },
     "execution_count": 3,
     "metadata": {},
     "output_type": "execute_result"
    }
   ],
   "source": [
    "words = open('names.txt', 'r').read().splitlines()\n",
    "words[:8]"
   ]
  },
  {
   "cell_type": "code",
   "execution_count": 4,
   "id": "21614a97",
   "metadata": {},
   "outputs": [
    {
     "name": "stdout",
     "output_type": "stream",
     "text": [
      "{'a': 1, 'b': 2, 'c': 3, 'd': 4, 'e': 5, 'f': 6, 'g': 7, 'h': 8, 'i': 9, 'j': 10, 'k': 11, 'l': 12, 'm': 13, 'n': 14, 'o': 15, 'p': 16, 'q': 17, 'r': 18, 's': 19, 't': 20, 'u': 21, 'v': 22, 'w': 23, 'x': 24, 'y': 25, 'z': 26, '.': 0}\n",
      "{1: 'a', 2: 'b', 3: 'c', 4: 'd', 5: 'e', 6: 'f', 7: 'g', 8: 'h', 9: 'i', 10: 'j', 11: 'k', 12: 'l', 13: 'm', 14: 'n', 15: 'o', 16: 'p', 17: 'q', 18: 'r', 19: 's', 20: 't', 21: 'u', 22: 'v', 23: 'w', 24: 'x', 25: 'y', 26: 'z', 0: '.'}\n"
     ]
    }
   ],
   "source": [
    "chars = list('abcdefghijklmnopqrstuvwxyz')\n",
    "stoi = { s:i+1 for i, s in enumerate(chars)}\n",
    "stoi['.'] = 0\n",
    "itos = { i+1:s for i, s in enumerate(chars)}\n",
    "itos[0] = '.'\n",
    "print(stoi)\n",
    "print(itos)"
   ]
  },
  {
   "cell_type": "code",
   "execution_count": 5,
   "id": "9f9c20e1",
   "metadata": {},
   "outputs": [
    {
     "data": {
      "text/plain": [
       "32033"
      ]
     },
     "execution_count": 5,
     "metadata": {},
     "output_type": "execute_result"
    }
   ],
   "source": [
    "len(words)"
   ]
  },
  {
   "cell_type": "code",
   "execution_count": 65,
   "id": "59038ba6",
   "metadata": {},
   "outputs": [],
   "source": [
    "block_size = 3\n",
    "X, Y = [], []\n",
    "\n",
    "for w in words:\n",
    "#     print(w)\n",
    "    context = [0] * block_size\n",
    "    for ch in w + '.':\n",
    "        ix = stoi[ch]\n",
    "        X.append(context)\n",
    "        Y.append(ix)\n",
    "#         print(''.join(itos[i] for i in context), '->', ch)        \n",
    "        context = context[1:] + [ix]\n",
    "        \n",
    "X = torch.tensor(X)    \n",
    "Y = torch.tensor(Y)"
   ]
  },
  {
   "cell_type": "code",
   "execution_count": 108,
   "id": "f3b6a57a",
   "metadata": {},
   "outputs": [
    {
     "name": "stdout",
     "output_type": "stream",
     "text": [
      "torch.Size([182437, 3]) torch.Size([182437])\n",
      "torch.Size([22781, 3]) torch.Size([22781])\n",
      "torch.Size([22928, 3]) torch.Size([22928])\n"
     ]
    }
   ],
   "source": [
    "def build_dataset(words):\n",
    "    block_size = 3\n",
    "    X, Y = [], []\n",
    "\n",
    "    for w in words:\n",
    "        context = [0] * block_size\n",
    "        for ch in w + '.':\n",
    "            ix = stoi[ch]\n",
    "            X.append(context)\n",
    "            Y.append(ix)\n",
    "            context = context[1:] + [ix]\n",
    "\n",
    "    X = torch.tensor(X)    \n",
    "    Y = torch.tensor(Y)\n",
    "    print(X.shape, Y.shape)\n",
    "    return X, Y\n",
    "\n",
    "import random\n",
    "random.seed(42)\n",
    "random.shuffle(words)\n",
    "n1 = int(0.8 * len(words))\n",
    "n2 = int(0.9 * len(words))\n",
    "Xtr, Ytr = build_dataset(words[:n1])\n",
    "Xdev, Ydev = build_dataset(words[n1:n2])\n",
    "Xte, Yte = build_dataset(words[n2:])"
   ]
  },
  {
   "cell_type": "code",
   "execution_count": 12,
   "id": "36734770",
   "metadata": {},
   "outputs": [
    {
     "data": {
      "text/plain": [
       "tensor([[-1.4526, -2.0780],\n",
       "        [ 0.2789,  0.1185],\n",
       "        [-1.6498,  0.6196],\n",
       "        [ 0.4546, -0.4112],\n",
       "        [-0.7729, -0.4626],\n",
       "        [-0.4445,  1.1777],\n",
       "        [-0.6818, -2.3324],\n",
       "        [ 0.7560, -0.3687],\n",
       "        [ 1.3034, -0.9481],\n",
       "        [ 2.4715, -1.1364],\n",
       "        [ 0.8280, -1.4959],\n",
       "        [-0.7690,  0.0836],\n",
       "        [-0.9572,  0.1752],\n",
       "        [ 0.3804, -1.5694],\n",
       "        [ 0.1010, -0.7938],\n",
       "        [-0.0820, -1.3379],\n",
       "        [ 1.5952,  0.8336],\n",
       "        [-0.3379,  1.2664],\n",
       "        [ 1.0904, -0.2455],\n",
       "        [ 0.9992,  0.3441],\n",
       "        [ 1.2710, -0.2615],\n",
       "        [ 0.8931,  0.8170],\n",
       "        [-0.7789, -0.0620],\n",
       "        [-0.2919, -0.3925],\n",
       "        [-1.3689, -2.3951],\n",
       "        [ 0.5192,  0.4173],\n",
       "        [-1.2423, -0.4284]])"
      ]
     },
     "execution_count": 12,
     "metadata": {},
     "output_type": "execute_result"
    }
   ],
   "source": [
    "C = torch.randn((27, 2))\n",
    "C"
   ]
  },
  {
   "cell_type": "code",
   "execution_count": 13,
   "id": "5fca421b",
   "metadata": {},
   "outputs": [
    {
     "data": {
      "text/plain": [
       "tensor([0, 0, 0, 0, 0, 1, 0, 0, 0, 0, 0, 0, 0, 0, 0, 0, 0, 0, 0, 0, 0, 0, 0, 0,\n",
       "        0, 0, 0])"
      ]
     },
     "execution_count": 13,
     "metadata": {},
     "output_type": "execute_result"
    }
   ],
   "source": [
    "F.one_hot(torch.tensor(5), num_classes=27).float() @ C"
   ]
  },
  {
   "cell_type": "code",
   "execution_count": 14,
   "id": "6faa64ea",
   "metadata": {},
   "outputs": [
    {
     "data": {
      "text/plain": [
       "torch.Size([32, 3, 2])"
      ]
     },
     "execution_count": 14,
     "metadata": {},
     "output_type": "execute_result"
    }
   ],
   "source": [
    "# WTF is being done here?\n",
    "emb = C[X]\n",
    "emb.shape"
   ]
  },
  {
   "cell_type": "code",
   "execution_count": 15,
   "id": "d27aa88d",
   "metadata": {},
   "outputs": [],
   "source": [
    "W1 = torch.randn((6, 100))\n",
    "b1 = torch.randn(100)"
   ]
  },
  {
   "cell_type": "code",
   "execution_count": 23,
   "id": "875de326",
   "metadata": {},
   "outputs": [
    {
     "data": {
      "text/plain": [
       "tensor([[-1.4526, -2.0780, -1.4526, -2.0780, -1.4526, -2.0780],\n",
       "        [-1.4526, -2.0780, -1.4526, -2.0780, -0.4445,  1.1777],\n",
       "        [-1.4526, -2.0780, -0.4445,  1.1777,  0.3804, -1.5694],\n",
       "        [-0.4445,  1.1777,  0.3804, -1.5694,  0.3804, -1.5694],\n",
       "        [ 0.3804, -1.5694,  0.3804, -1.5694,  0.2789,  0.1185],\n",
       "        [-1.4526, -2.0780, -1.4526, -2.0780, -1.4526, -2.0780],\n",
       "        [-1.4526, -2.0780, -1.4526, -2.0780, -0.0820, -1.3379],\n",
       "        [-1.4526, -2.0780, -0.0820, -1.3379, -0.9572,  0.1752],\n",
       "        [-0.0820, -1.3379, -0.9572,  0.1752,  2.4715, -1.1364],\n",
       "        [-0.9572,  0.1752,  2.4715, -1.1364, -0.7789, -0.0620],\n",
       "        [ 2.4715, -1.1364, -0.7789, -0.0620,  2.4715, -1.1364],\n",
       "        [-0.7789, -0.0620,  2.4715, -1.1364,  0.2789,  0.1185],\n",
       "        [-1.4526, -2.0780, -1.4526, -2.0780, -1.4526, -2.0780],\n",
       "        [-1.4526, -2.0780, -1.4526, -2.0780,  0.2789,  0.1185],\n",
       "        [-1.4526, -2.0780,  0.2789,  0.1185, -0.7789, -0.0620],\n",
       "        [ 0.2789,  0.1185, -0.7789, -0.0620,  0.2789,  0.1185],\n",
       "        [-1.4526, -2.0780, -1.4526, -2.0780, -1.4526, -2.0780],\n",
       "        [-1.4526, -2.0780, -1.4526, -2.0780,  2.4715, -1.1364],\n",
       "        [-1.4526, -2.0780,  2.4715, -1.1364,  0.9992,  0.3441],\n",
       "        [ 2.4715, -1.1364,  0.9992,  0.3441,  0.2789,  0.1185],\n",
       "        [ 0.9992,  0.3441,  0.2789,  0.1185, -1.6498,  0.6196],\n",
       "        [ 0.2789,  0.1185, -1.6498,  0.6196, -0.4445,  1.1777],\n",
       "        [-1.6498,  0.6196, -0.4445,  1.1777, -0.9572,  0.1752],\n",
       "        [-0.4445,  1.1777, -0.9572,  0.1752, -0.9572,  0.1752],\n",
       "        [-0.9572,  0.1752, -0.9572,  0.1752,  0.2789,  0.1185],\n",
       "        [-1.4526, -2.0780, -1.4526, -2.0780, -1.4526, -2.0780],\n",
       "        [-1.4526, -2.0780, -1.4526, -2.0780,  0.9992,  0.3441],\n",
       "        [-1.4526, -2.0780,  0.9992,  0.3441, -0.0820, -1.3379],\n",
       "        [ 0.9992,  0.3441, -0.0820, -1.3379,  1.5952,  0.8336],\n",
       "        [-0.0820, -1.3379,  1.5952,  0.8336,  1.3034, -0.9481],\n",
       "        [ 1.5952,  0.8336,  1.3034, -0.9481,  2.4715, -1.1364],\n",
       "        [ 1.3034, -0.9481,  2.4715, -1.1364,  0.2789,  0.1185]])"
      ]
     },
     "execution_count": 23,
     "metadata": {},
     "output_type": "execute_result"
    }
   ],
   "source": [
    "# emb @ W1 + b1\n",
    "# (32 * 3 * 2) * (6 * 100) + (100)\n",
    "# Implementation #1\n",
    "torch.concat(torch.unbind(emb, 1), 1)"
   ]
  },
  {
   "cell_type": "code",
   "execution_count": 21,
   "id": "f53b4035",
   "metadata": {},
   "outputs": [
    {
     "data": {
      "text/plain": [
       "tensor([[-1.4526, -2.0780, -1.4526, -2.0780, -1.4526, -2.0780],\n",
       "        [-1.4526, -2.0780, -1.4526, -2.0780, -0.4445,  1.1777],\n",
       "        [-1.4526, -2.0780, -0.4445,  1.1777,  0.3804, -1.5694],\n",
       "        [-0.4445,  1.1777,  0.3804, -1.5694,  0.3804, -1.5694],\n",
       "        [ 0.3804, -1.5694,  0.3804, -1.5694,  0.2789,  0.1185],\n",
       "        [-1.4526, -2.0780, -1.4526, -2.0780, -1.4526, -2.0780],\n",
       "        [-1.4526, -2.0780, -1.4526, -2.0780, -0.0820, -1.3379],\n",
       "        [-1.4526, -2.0780, -0.0820, -1.3379, -0.9572,  0.1752],\n",
       "        [-0.0820, -1.3379, -0.9572,  0.1752,  2.4715, -1.1364],\n",
       "        [-0.9572,  0.1752,  2.4715, -1.1364, -0.7789, -0.0620],\n",
       "        [ 2.4715, -1.1364, -0.7789, -0.0620,  2.4715, -1.1364],\n",
       "        [-0.7789, -0.0620,  2.4715, -1.1364,  0.2789,  0.1185],\n",
       "        [-1.4526, -2.0780, -1.4526, -2.0780, -1.4526, -2.0780],\n",
       "        [-1.4526, -2.0780, -1.4526, -2.0780,  0.2789,  0.1185],\n",
       "        [-1.4526, -2.0780,  0.2789,  0.1185, -0.7789, -0.0620],\n",
       "        [ 0.2789,  0.1185, -0.7789, -0.0620,  0.2789,  0.1185],\n",
       "        [-1.4526, -2.0780, -1.4526, -2.0780, -1.4526, -2.0780],\n",
       "        [-1.4526, -2.0780, -1.4526, -2.0780,  2.4715, -1.1364],\n",
       "        [-1.4526, -2.0780,  2.4715, -1.1364,  0.9992,  0.3441],\n",
       "        [ 2.4715, -1.1364,  0.9992,  0.3441,  0.2789,  0.1185],\n",
       "        [ 0.9992,  0.3441,  0.2789,  0.1185, -1.6498,  0.6196],\n",
       "        [ 0.2789,  0.1185, -1.6498,  0.6196, -0.4445,  1.1777],\n",
       "        [-1.6498,  0.6196, -0.4445,  1.1777, -0.9572,  0.1752],\n",
       "        [-0.4445,  1.1777, -0.9572,  0.1752, -0.9572,  0.1752],\n",
       "        [-0.9572,  0.1752, -0.9572,  0.1752,  0.2789,  0.1185],\n",
       "        [-1.4526, -2.0780, -1.4526, -2.0780, -1.4526, -2.0780],\n",
       "        [-1.4526, -2.0780, -1.4526, -2.0780,  0.9992,  0.3441],\n",
       "        [-1.4526, -2.0780,  0.9992,  0.3441, -0.0820, -1.3379],\n",
       "        [ 0.9992,  0.3441, -0.0820, -1.3379,  1.5952,  0.8336],\n",
       "        [-0.0820, -1.3379,  1.5952,  0.8336,  1.3034, -0.9481],\n",
       "        [ 1.5952,  0.8336,  1.3034, -0.9481,  2.4715, -1.1364],\n",
       "        [ 1.3034, -0.9481,  2.4715, -1.1364,  0.2789,  0.1185]])"
      ]
     },
     "execution_count": 21,
     "metadata": {},
     "output_type": "execute_result"
    }
   ],
   "source": [
    "emb.view(32, 6)"
   ]
  },
  {
   "cell_type": "code",
   "execution_count": 25,
   "id": "aaa8c911",
   "metadata": {},
   "outputs": [
    {
     "data": {
      "text/plain": [
       "torch.Size([32, 100])"
      ]
     },
     "execution_count": 25,
     "metadata": {},
     "output_type": "execute_result"
    }
   ],
   "source": [
    "h = torch.tanh(emb.view(-1, 6) @ W1 + b1)\n",
    "h.shape\n"
   ]
  },
  {
   "cell_type": "code",
   "execution_count": 26,
   "id": "0088f540",
   "metadata": {},
   "outputs": [],
   "source": [
    "W2 = torch.randn((100, 27))\n",
    "b2 = torch.randn(27)\n",
    "\n",
    "logits = h @ W2 + b2\n",
    "counts = logits.exp()\n",
    "probs = counts / counts.sum(1, keepdim = True)"
   ]
  },
  {
   "cell_type": "code",
   "execution_count": 27,
   "id": "18c497d8",
   "metadata": {},
   "outputs": [
    {
     "data": {
      "text/plain": [
       "tensor(1.0000)"
      ]
     },
     "execution_count": 27,
     "metadata": {},
     "output_type": "execute_result"
    }
   ],
   "source": [
    "probs[0].sum()"
   ]
  },
  {
   "cell_type": "code",
   "execution_count": 34,
   "id": "dcebdcfb",
   "metadata": {},
   "outputs": [
    {
     "data": {
      "text/plain": [
       "tensor(13.9879)"
      ]
     },
     "execution_count": 34,
     "metadata": {},
     "output_type": "execute_result"
    }
   ],
   "source": [
    "loss = -prob[torch.arange(len(Y)), Y].log().mean()\n",
    "loss"
   ]
  },
  {
   "cell_type": "code",
   "execution_count": 82,
   "id": "8ef7d8ba",
   "metadata": {},
   "outputs": [
    {
     "data": {
      "text/plain": [
       "tensor([-3.0000, -2.9970, -2.9940, -2.9910, -2.9880, -2.9850, -2.9820, -2.9790,\n",
       "        -2.9760, -2.9730, -2.9700, -2.9670, -2.9640, -2.9610, -2.9580, -2.9550,\n",
       "        -2.9520, -2.9489, -2.9459, -2.9429, -2.9399, -2.9369, -2.9339, -2.9309,\n",
       "        -2.9279, -2.9249, -2.9219, -2.9189, -2.9159, -2.9129, -2.9099, -2.9069,\n",
       "        -2.9039, -2.9009, -2.8979, -2.8949, -2.8919, -2.8889, -2.8859, -2.8829,\n",
       "        -2.8799, -2.8769, -2.8739, -2.8709, -2.8679, -2.8649, -2.8619, -2.8589,\n",
       "        -2.8559, -2.8529, -2.8498, -2.8468, -2.8438, -2.8408, -2.8378, -2.8348,\n",
       "        -2.8318, -2.8288, -2.8258, -2.8228, -2.8198, -2.8168, -2.8138, -2.8108,\n",
       "        -2.8078, -2.8048, -2.8018, -2.7988, -2.7958, -2.7928, -2.7898, -2.7868,\n",
       "        -2.7838, -2.7808, -2.7778, -2.7748, -2.7718, -2.7688, -2.7658, -2.7628,\n",
       "        -2.7598, -2.7568, -2.7538, -2.7508, -2.7477, -2.7447, -2.7417, -2.7387,\n",
       "        -2.7357, -2.7327, -2.7297, -2.7267, -2.7237, -2.7207, -2.7177, -2.7147,\n",
       "        -2.7117, -2.7087, -2.7057, -2.7027, -2.6997, -2.6967, -2.6937, -2.6907,\n",
       "        -2.6877, -2.6847, -2.6817, -2.6787, -2.6757, -2.6727, -2.6697, -2.6667,\n",
       "        -2.6637, -2.6607, -2.6577, -2.6547, -2.6517, -2.6486, -2.6456, -2.6426,\n",
       "        -2.6396, -2.6366, -2.6336, -2.6306, -2.6276, -2.6246, -2.6216, -2.6186,\n",
       "        -2.6156, -2.6126, -2.6096, -2.6066, -2.6036, -2.6006, -2.5976, -2.5946,\n",
       "        -2.5916, -2.5886, -2.5856, -2.5826, -2.5796, -2.5766, -2.5736, -2.5706,\n",
       "        -2.5676, -2.5646, -2.5616, -2.5586, -2.5556, -2.5526, -2.5495, -2.5465,\n",
       "        -2.5435, -2.5405, -2.5375, -2.5345, -2.5315, -2.5285, -2.5255, -2.5225,\n",
       "        -2.5195, -2.5165, -2.5135, -2.5105, -2.5075, -2.5045, -2.5015, -2.4985,\n",
       "        -2.4955, -2.4925, -2.4895, -2.4865, -2.4835, -2.4805, -2.4775, -2.4745,\n",
       "        -2.4715, -2.4685, -2.4655, -2.4625, -2.4595, -2.4565, -2.4535, -2.4505,\n",
       "        -2.4474, -2.4444, -2.4414, -2.4384, -2.4354, -2.4324, -2.4294, -2.4264,\n",
       "        -2.4234, -2.4204, -2.4174, -2.4144, -2.4114, -2.4084, -2.4054, -2.4024,\n",
       "        -2.3994, -2.3964, -2.3934, -2.3904, -2.3874, -2.3844, -2.3814, -2.3784,\n",
       "        -2.3754, -2.3724, -2.3694, -2.3664, -2.3634, -2.3604, -2.3574, -2.3544,\n",
       "        -2.3514, -2.3483, -2.3453, -2.3423, -2.3393, -2.3363, -2.3333, -2.3303,\n",
       "        -2.3273, -2.3243, -2.3213, -2.3183, -2.3153, -2.3123, -2.3093, -2.3063,\n",
       "        -2.3033, -2.3003, -2.2973, -2.2943, -2.2913, -2.2883, -2.2853, -2.2823,\n",
       "        -2.2793, -2.2763, -2.2733, -2.2703, -2.2673, -2.2643, -2.2613, -2.2583,\n",
       "        -2.2553, -2.2523, -2.2492, -2.2462, -2.2432, -2.2402, -2.2372, -2.2342,\n",
       "        -2.2312, -2.2282, -2.2252, -2.2222, -2.2192, -2.2162, -2.2132, -2.2102,\n",
       "        -2.2072, -2.2042, -2.2012, -2.1982, -2.1952, -2.1922, -2.1892, -2.1862,\n",
       "        -2.1832, -2.1802, -2.1772, -2.1742, -2.1712, -2.1682, -2.1652, -2.1622,\n",
       "        -2.1592, -2.1562, -2.1532, -2.1502, -2.1471, -2.1441, -2.1411, -2.1381,\n",
       "        -2.1351, -2.1321, -2.1291, -2.1261, -2.1231, -2.1201, -2.1171, -2.1141,\n",
       "        -2.1111, -2.1081, -2.1051, -2.1021, -2.0991, -2.0961, -2.0931, -2.0901,\n",
       "        -2.0871, -2.0841, -2.0811, -2.0781, -2.0751, -2.0721, -2.0691, -2.0661,\n",
       "        -2.0631, -2.0601, -2.0571, -2.0541, -2.0511, -2.0480, -2.0450, -2.0420,\n",
       "        -2.0390, -2.0360, -2.0330, -2.0300, -2.0270, -2.0240, -2.0210, -2.0180,\n",
       "        -2.0150, -2.0120, -2.0090, -2.0060, -2.0030, -2.0000, -1.9970, -1.9940,\n",
       "        -1.9910, -1.9880, -1.9850, -1.9820, -1.9790, -1.9760, -1.9730, -1.9700,\n",
       "        -1.9670, -1.9640, -1.9610, -1.9580, -1.9550, -1.9520, -1.9489, -1.9459,\n",
       "        -1.9429, -1.9399, -1.9369, -1.9339, -1.9309, -1.9279, -1.9249, -1.9219,\n",
       "        -1.9189, -1.9159, -1.9129, -1.9099, -1.9069, -1.9039, -1.9009, -1.8979,\n",
       "        -1.8949, -1.8919, -1.8889, -1.8859, -1.8829, -1.8799, -1.8769, -1.8739,\n",
       "        -1.8709, -1.8679, -1.8649, -1.8619, -1.8589, -1.8559, -1.8529, -1.8498,\n",
       "        -1.8468, -1.8438, -1.8408, -1.8378, -1.8348, -1.8318, -1.8288, -1.8258,\n",
       "        -1.8228, -1.8198, -1.8168, -1.8138, -1.8108, -1.8078, -1.8048, -1.8018,\n",
       "        -1.7988, -1.7958, -1.7928, -1.7898, -1.7868, -1.7838, -1.7808, -1.7778,\n",
       "        -1.7748, -1.7718, -1.7688, -1.7658, -1.7628, -1.7598, -1.7568, -1.7538,\n",
       "        -1.7508, -1.7477, -1.7447, -1.7417, -1.7387, -1.7357, -1.7327, -1.7297,\n",
       "        -1.7267, -1.7237, -1.7207, -1.7177, -1.7147, -1.7117, -1.7087, -1.7057,\n",
       "        -1.7027, -1.6997, -1.6967, -1.6937, -1.6907, -1.6877, -1.6847, -1.6817,\n",
       "        -1.6787, -1.6757, -1.6727, -1.6697, -1.6667, -1.6637, -1.6607, -1.6577,\n",
       "        -1.6547, -1.6517, -1.6486, -1.6456, -1.6426, -1.6396, -1.6366, -1.6336,\n",
       "        -1.6306, -1.6276, -1.6246, -1.6216, -1.6186, -1.6156, -1.6126, -1.6096,\n",
       "        -1.6066, -1.6036, -1.6006, -1.5976, -1.5946, -1.5916, -1.5886, -1.5856,\n",
       "        -1.5826, -1.5796, -1.5766, -1.5736, -1.5706, -1.5676, -1.5646, -1.5616,\n",
       "        -1.5586, -1.5556, -1.5526, -1.5495, -1.5465, -1.5435, -1.5405, -1.5375,\n",
       "        -1.5345, -1.5315, -1.5285, -1.5255, -1.5225, -1.5195, -1.5165, -1.5135,\n",
       "        -1.5105, -1.5075, -1.5045, -1.5015, -1.4985, -1.4955, -1.4925, -1.4895,\n",
       "        -1.4865, -1.4835, -1.4805, -1.4775, -1.4745, -1.4715, -1.4685, -1.4655,\n",
       "        -1.4625, -1.4595, -1.4565, -1.4535, -1.4505, -1.4474, -1.4444, -1.4414,\n",
       "        -1.4384, -1.4354, -1.4324, -1.4294, -1.4264, -1.4234, -1.4204, -1.4174,\n",
       "        -1.4144, -1.4114, -1.4084, -1.4054, -1.4024, -1.3994, -1.3964, -1.3934,\n",
       "        -1.3904, -1.3874, -1.3844, -1.3814, -1.3784, -1.3754, -1.3724, -1.3694,\n",
       "        -1.3664, -1.3634, -1.3604, -1.3574, -1.3544, -1.3514, -1.3483, -1.3453,\n",
       "        -1.3423, -1.3393, -1.3363, -1.3333, -1.3303, -1.3273, -1.3243, -1.3213,\n",
       "        -1.3183, -1.3153, -1.3123, -1.3093, -1.3063, -1.3033, -1.3003, -1.2973,\n",
       "        -1.2943, -1.2913, -1.2883, -1.2853, -1.2823, -1.2793, -1.2763, -1.2733,\n",
       "        -1.2703, -1.2673, -1.2643, -1.2613, -1.2583, -1.2553, -1.2523, -1.2492,\n",
       "        -1.2462, -1.2432, -1.2402, -1.2372, -1.2342, -1.2312, -1.2282, -1.2252,\n",
       "        -1.2222, -1.2192, -1.2162, -1.2132, -1.2102, -1.2072, -1.2042, -1.2012,\n",
       "        -1.1982, -1.1952, -1.1922, -1.1892, -1.1862, -1.1832, -1.1802, -1.1772,\n",
       "        -1.1742, -1.1712, -1.1682, -1.1652, -1.1622, -1.1592, -1.1562, -1.1532,\n",
       "        -1.1502, -1.1471, -1.1441, -1.1411, -1.1381, -1.1351, -1.1321, -1.1291,\n",
       "        -1.1261, -1.1231, -1.1201, -1.1171, -1.1141, -1.1111, -1.1081, -1.1051,\n",
       "        -1.1021, -1.0991, -1.0961, -1.0931, -1.0901, -1.0871, -1.0841, -1.0811,\n",
       "        -1.0781, -1.0751, -1.0721, -1.0691, -1.0661, -1.0631, -1.0601, -1.0571,\n",
       "        -1.0541, -1.0511, -1.0480, -1.0450, -1.0420, -1.0390, -1.0360, -1.0330,\n",
       "        -1.0300, -1.0270, -1.0240, -1.0210, -1.0180, -1.0150, -1.0120, -1.0090,\n",
       "        -1.0060, -1.0030, -1.0000, -0.9970, -0.9940, -0.9910, -0.9880, -0.9850,\n",
       "        -0.9820, -0.9790, -0.9760, -0.9730, -0.9700, -0.9670, -0.9640, -0.9610,\n",
       "        -0.9580, -0.9550, -0.9520, -0.9489, -0.9459, -0.9429, -0.9399, -0.9369,\n",
       "        -0.9339, -0.9309, -0.9279, -0.9249, -0.9219, -0.9189, -0.9159, -0.9129,\n",
       "        -0.9099, -0.9069, -0.9039, -0.9009, -0.8979, -0.8949, -0.8919, -0.8889,\n",
       "        -0.8859, -0.8829, -0.8799, -0.8769, -0.8739, -0.8709, -0.8679, -0.8649,\n",
       "        -0.8619, -0.8589, -0.8559, -0.8529, -0.8498, -0.8468, -0.8438, -0.8408,\n",
       "        -0.8378, -0.8348, -0.8318, -0.8288, -0.8258, -0.8228, -0.8198, -0.8168,\n",
       "        -0.8138, -0.8108, -0.8078, -0.8048, -0.8018, -0.7988, -0.7958, -0.7928,\n",
       "        -0.7898, -0.7868, -0.7838, -0.7808, -0.7778, -0.7748, -0.7718, -0.7688,\n",
       "        -0.7658, -0.7628, -0.7598, -0.7568, -0.7538, -0.7508, -0.7477, -0.7447,\n",
       "        -0.7417, -0.7387, -0.7357, -0.7327, -0.7297, -0.7267, -0.7237, -0.7207,\n",
       "        -0.7177, -0.7147, -0.7117, -0.7087, -0.7057, -0.7027, -0.6997, -0.6967,\n",
       "        -0.6937, -0.6907, -0.6877, -0.6847, -0.6817, -0.6787, -0.6757, -0.6727,\n",
       "        -0.6697, -0.6667, -0.6637, -0.6607, -0.6577, -0.6547, -0.6517, -0.6486,\n",
       "        -0.6456, -0.6426, -0.6396, -0.6366, -0.6336, -0.6306, -0.6276, -0.6246,\n",
       "        -0.6216, -0.6186, -0.6156, -0.6126, -0.6096, -0.6066, -0.6036, -0.6006,\n",
       "        -0.5976, -0.5946, -0.5916, -0.5886, -0.5856, -0.5826, -0.5796, -0.5766,\n",
       "        -0.5736, -0.5706, -0.5676, -0.5646, -0.5616, -0.5586, -0.5556, -0.5526,\n",
       "        -0.5495, -0.5465, -0.5435, -0.5405, -0.5375, -0.5345, -0.5315, -0.5285,\n",
       "        -0.5255, -0.5225, -0.5195, -0.5165, -0.5135, -0.5105, -0.5075, -0.5045,\n",
       "        -0.5015, -0.4985, -0.4955, -0.4925, -0.4895, -0.4865, -0.4835, -0.4805,\n",
       "        -0.4775, -0.4745, -0.4715, -0.4685, -0.4655, -0.4625, -0.4595, -0.4565,\n",
       "        -0.4535, -0.4505, -0.4474, -0.4444, -0.4414, -0.4384, -0.4354, -0.4324,\n",
       "        -0.4294, -0.4264, -0.4234, -0.4204, -0.4174, -0.4144, -0.4114, -0.4084,\n",
       "        -0.4054, -0.4024, -0.3994, -0.3964, -0.3934, -0.3904, -0.3874, -0.3844,\n",
       "        -0.3814, -0.3784, -0.3754, -0.3724, -0.3694, -0.3664, -0.3634, -0.3604,\n",
       "        -0.3574, -0.3544, -0.3514, -0.3483, -0.3453, -0.3423, -0.3393, -0.3363,\n",
       "        -0.3333, -0.3303, -0.3273, -0.3243, -0.3213, -0.3183, -0.3153, -0.3123,\n",
       "        -0.3093, -0.3063, -0.3033, -0.3003, -0.2973, -0.2943, -0.2913, -0.2883,\n",
       "        -0.2853, -0.2823, -0.2793, -0.2763, -0.2733, -0.2703, -0.2673, -0.2643,\n",
       "        -0.2613, -0.2583, -0.2553, -0.2523, -0.2492, -0.2462, -0.2432, -0.2402,\n",
       "        -0.2372, -0.2342, -0.2312, -0.2282, -0.2252, -0.2222, -0.2192, -0.2162,\n",
       "        -0.2132, -0.2102, -0.2072, -0.2042, -0.2012, -0.1982, -0.1952, -0.1922,\n",
       "        -0.1892, -0.1862, -0.1832, -0.1802, -0.1772, -0.1742, -0.1712, -0.1682,\n",
       "        -0.1652, -0.1622, -0.1592, -0.1562, -0.1532, -0.1502, -0.1471, -0.1441,\n",
       "        -0.1411, -0.1381, -0.1351, -0.1321, -0.1291, -0.1261, -0.1231, -0.1201,\n",
       "        -0.1171, -0.1141, -0.1111, -0.1081, -0.1051, -0.1021, -0.0991, -0.0961,\n",
       "        -0.0931, -0.0901, -0.0871, -0.0841, -0.0811, -0.0781, -0.0751, -0.0721,\n",
       "        -0.0691, -0.0661, -0.0631, -0.0601, -0.0571, -0.0541, -0.0511, -0.0480,\n",
       "        -0.0450, -0.0420, -0.0390, -0.0360, -0.0330, -0.0300, -0.0270, -0.0240,\n",
       "        -0.0210, -0.0180, -0.0150, -0.0120, -0.0090, -0.0060, -0.0030,  0.0000])"
      ]
     },
     "execution_count": 82,
     "metadata": {},
     "output_type": "execute_result"
    }
   ],
   "source": [
    "lre = torch.linspace(-3, 0, 1000)\n",
    "lrs = 10**lre\n",
    "lre"
   ]
  },
  {
   "cell_type": "code",
   "execution_count": 163,
   "id": "4afb0f88",
   "metadata": {},
   "outputs": [
    {
     "name": "stdout",
     "output_type": "stream",
     "text": [
      "11897\n"
     ]
    }
   ],
   "source": [
    "g = torch.Generator().manual_seed(2147483647)\n",
    "C = torch.randn((27, 10), generator=g, requires_grad=True)\n",
    "\n",
    "W1 = torch.randn((30, 200), generator=g, requires_grad=True)\n",
    "b1 = torch.randn(200, generator=g, requires_grad=True)\n",
    "\n",
    "W2 = torch.randn((200, 27), generator=g, requires_grad=True)\n",
    "b2 = torch.randn(27, generator=g, requires_grad=True)\n",
    "parameters = [C, W1, b1, W2, b2]\n",
    "\n",
    "for p in parameters:\n",
    "    p.requires_grad = True\n",
    "print(sum(p.nelement() for p in parameters))"
   ]
  },
  {
   "cell_type": "code",
   "execution_count": 164,
   "id": "fd8440dd",
   "metadata": {},
   "outputs": [],
   "source": [
    "lri = []\n",
    "lossi = []\n",
    "stepi = []"
   ]
  },
  {
   "cell_type": "code",
   "execution_count": 173,
   "id": "389f6e62",
   "metadata": {},
   "outputs": [
    {
     "name": "stdout",
     "output_type": "stream",
     "text": [
      "2.136420249938965\n"
     ]
    }
   ],
   "source": [
    "for k in range(50000):\n",
    "    \n",
    "    # minibatch\n",
    "    ix = torch.randint(0, Xtr.shape[0], (32, ))\n",
    "    \n",
    "    # Forward pass\n",
    "    emb = C[Xtr[ix]]\n",
    "#     print(emb.shape)\n",
    "    h = torch.tanh(emb.view(-1, 30) @ W1 + b1)\n",
    "#     print(h.shape)\n",
    "    logits = h @ W2 + b2\n",
    "#     print(logits.shape)\n",
    "#     counts = logits.exp()\n",
    "#     print(counts.shape)\n",
    "#     probs = counts / counts.sum(1, keepdim = True)\n",
    "#     print(probs.shape)\n",
    "#     loss = -prob[torch.arange(32), Y].log().mean()\n",
    "    loss = F.cross_entropy(logits, Ytr[ix])\n",
    "#     print(loss.item())\n",
    "    \n",
    "    # Backprop\n",
    "    for p in parameters:\n",
    "        p.grad = None\n",
    "    loss.backward()\n",
    "    \n",
    "    # Update parameters\n",
    "    for p in parameters:\n",
    "        p.data += -0.01 * p.grad\n",
    "        \n",
    "#     lri.append(lre[k])\n",
    "    stepi.append(k)\n",
    "    lossi.append(loss.log10().item())\n",
    "#     print(loss)\n",
    "print(loss.item())"
   ]
  },
  {
   "cell_type": "code",
   "execution_count": 174,
   "id": "9a27928e",
   "metadata": {},
   "outputs": [
    {
     "data": {
      "text/plain": [
       "[<matplotlib.lines.Line2D at 0x12696f130>]"
      ]
     },
     "execution_count": 174,
     "metadata": {},
     "output_type": "execute_result"
    },
    {
     "data": {
      "image/png": "[encoded data removed]",
      "text/plain": [
       "<Figure size 640x480 with 1 Axes>"
      ]
     },
     "metadata": {},
     "output_type": "display_data"
    }
   ],
   "source": [
    "# print(lri)\n",
    "# print(lossi)\n",
    "plt.plot(stepi, lossi)"
   ]
  },
  {
   "cell_type": "code",
   "execution_count": 56,
   "id": "9ab7b234",
   "metadata": {},
   "outputs": [
    {
     "data": {
      "text/plain": [
       "torch.return_types.max(\n",
       "values=tensor([13.3437, 17.7880, 20.5833, 20.6041, 16.7390, 13.3437, 15.9748, 14.1889,\n",
       "        15.9159, 18.3894, 15.9410, 20.9285, 13.3437, 17.1211, 17.1498, 20.0637,\n",
       "        13.3437, 16.4564, 15.1328, 17.0536, 18.5906, 15.9655, 10.8739, 10.6875,\n",
       "        15.5062, 13.3437, 16.2393, 16.9564, 12.7426, 16.2140, 19.0841, 16.0213],\n",
       "       grad_fn=<MaxBackward0>),\n",
       "indices=tensor([ 9, 13, 13,  1,  0,  9, 12,  9, 22,  9,  1,  0,  9, 22,  1,  0,  9, 19,\n",
       "         1,  2,  5, 12, 12,  1,  0,  9, 15, 16,  8,  9,  1,  0]))"
      ]
     },
     "execution_count": 56,
     "metadata": {},
     "output_type": "execute_result"
    }
   ],
   "source": [
    "logits.max(1)"
   ]
  },
  {
   "cell_type": "code",
   "execution_count": 57,
   "id": "97ea7fb7",
   "metadata": {},
   "outputs": [
    {
     "data": {
      "text/plain": [
       "tensor([ 5, 13, 13,  1,  0, 15, 12,  9, 22,  9,  1,  0,  1, 22,  1,  0,  9, 19,\n",
       "         1,  2,  5, 12, 12,  1,  0, 19, 15, 16,  8,  9,  1,  0])"
      ]
     },
     "execution_count": 57,
     "metadata": {},
     "output_type": "execute_result"
    }
   ],
   "source": [
    "Y"
   ]
  },
  {
   "cell_type": "code",
   "execution_count": 68,
   "id": "189d1dca",
   "metadata": {},
   "outputs": [
    {
     "data": {
      "text/plain": [
       "tensor([183976, 122446,  24558, 134754, 112806,  15280, 173210,  49072,   1512,\n",
       "        156601, 210354,  68730, 163357, 148520,  19579,  69234, 129225,  78204,\n",
       "         89795, 111522, 174001, 211283, 129768,  75005,  66419, 198267,  48159,\n",
       "        102015, 219239, 204099,  95848, 111431])"
      ]
     },
     "execution_count": 68,
     "metadata": {},
     "output_type": "execute_result"
    }
   ],
   "source": [
    "torch.randint(0, X.shape[0], (32, ))"
   ]
  },
  {
   "cell_type": "code",
   "execution_count": 175,
   "id": "17db6bd8",
   "metadata": {},
   "outputs": [
    {
     "name": "stdout",
     "output_type": "stream",
     "text": [
      "2.205702781677246\n"
     ]
    }
   ],
   "source": [
    "emb = C[Xdev]\n",
    "h = torch.tanh(emb.view(-1, 30) @ W1 + b1)\n",
    "logits = h @ W2 + b2\n",
    "loss = F.cross_entropy(logits, Ydev)\n",
    "print(loss.item())"
   ]
  },
  {
   "cell_type": "code",
   "execution_count": null,
   "id": "e5c96fa2",
   "metadata": {},
   "outputs": [],
   "source": [
    "# training split, dev / validation split, test split\n",
    "# 80%, 10%, 10%\n",
    "emb = C[Xtr]\n",
    "h = torch.tanh(emb.view(-1, 30) @ W1 + b1)\n",
    "logits = h @ W2 + b2\n",
    "loss = F.cross_entropy(logits, Ytr)\n",
    "print(loss.item())"
   ]
  },
  {
   "cell_type": "code",
   "execution_count": 177,
   "id": "28b17a26",
   "metadata": {},
   "outputs": [
    {
     "data": {
      "image/png": "[encoded data removed]",
      "text/plain": [
       "<Figure size 800x800 with 1 Axes>"
      ]
     },
     "metadata": {},
     "output_type": "display_data"
    }
   ],
   "source": [
    "plt.figure(figsize=(8,8))\n",
    "plt.scatter(C[:,0].data, C[:,1].data, s = 200)\n",
    "for i in range(C.shape[0]):\n",
    "    plt.text(C[i, 0].item(), C[i, 1].item(), itos[i], ha=\"center\", va=\"center\", color = \"white\")\n",
    "plt.grid(\"minor\")"
   ]
  },
  {
   "cell_type": "code",
   "execution_count": 182,
   "id": "3056780b",
   "metadata": {},
   "outputs": [
    {
     "name": "stdout",
     "output_type": "stream",
     "text": [
      "carpazratelle.\n",
      "khi.\n",
      "myli.\n",
      "taty.\n",
      "salaysa.\n",
      "jazhets.\n",
      "delynn.\n",
      "jareei.\n",
      "nellara.\n",
      "chaiiv.\n",
      "kaleigh.\n",
      "ham.\n",
      "joce.\n",
      "quint.\n",
      "saline.\n",
      "liven.\n",
      "arraelogierrynix.\n",
      "kael.\n",
      "druchus.\n",
      "deco.\n"
     ]
    }
   ],
   "source": [
    "g = torch.Generator().manual_seed(2147483647 + 10)\n",
    "for _ in range(20):\n",
    "    out = []\n",
    "    context = [0] * block_size\n",
    "\n",
    "    while True:\n",
    "        emb = C[torch.tensor([context])]\n",
    "        h = torch.tanh(emb.view(1, -1) @ W1 + b1)\n",
    "        logits = h @ W2 + b2\n",
    "        probs = F.softmax(logits, dim = 1)\n",
    "        ix = torch.multinomial(probs, num_samples=1, generator=g).item()\n",
    "        context = context[1:] + [ix]\n",
    "        out.append(ix)\n",
    "        if ix == 0:\n",
    "            break\n",
    "            \n",
    "    print(''.join(itos[i] for i in out))"
   ]
  },
  {
   "cell_type": "code",
   "execution_count": null,
   "id": "a735b103",
   "metadata": {},
   "outputs": [],
   "source": []
  }
 ],
 "metadata": {
  "kernelspec": {
   "display_name": "Python 3 (ipykernel)",
   "language": "python",
   "name": "python3"
  },
  "language_info": {
   "codemirror_mode": {
    "name": "ipython",
    "version": 3
   },
   "file_extension": ".py",
   "mimetype": "text/x-python",
   "name": "python",
   "nbconvert_exporter": "python",
   "pygments_lexer": "ipython3",
   "version": "3.9.16"
  }
 },
 "nbformat": 4,
 "nbformat_minor": 5
}
